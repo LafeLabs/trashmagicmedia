{
 "cells": [
  {
   "cell_type": "markdown",
   "id": "71b0a93c",
   "metadata": {},
   "source": [
    "# sensor json readout\n",
    "\n",
    "## Arduino code:\n",
    "\n",
    "```\n",
    "/**\n",
    " * Async example for MPL3115A2\n",
    " */\n",
    "\n",
    "#include <Adafruit_MPL3115A2.h>\n",
    "\n",
    "Adafruit_MPL3115A2 mpl;\n",
    "\n",
    "void setup() {\n",
    "  Serial.begin(9600);\n",
    "  while(!Serial);\n",
    "//  Serial.println(\"Adafruit_MPL3115A2 test!\");\n",
    "\n",
    "  if (!mpl.begin()) {\n",
    "    Serial.println(\"Could not find sensor. Check wiring.\");\n",
    "    while(1);\n",
    "  }\n",
    "\n",
    "  // set mode before starting a conversion\n",
    "//  Serial.println(\"Setting mode to barometer (pressure).\");\n",
    "  mpl.setMode(MPL3115A2_BAROMETER);\n",
    "}\n",
    "\n",
    "void loop() {\n",
    "  // start a conversion\n",
    "//  Serial.println(\"Starting a conversion.\");\n",
    "  mpl.startOneShot();\n",
    "\n",
    "  // do something else while waiting\n",
    "//  Serial.println(\"Counting number while waiting...\");\n",
    "  int count = 0;\n",
    "  while (!mpl.conversionComplete()) {\n",
    "    count++;\n",
    "  }\n",
    "//  Serial.print(\"Done! Counted to \"); Serial.println(count);\n",
    "\n",
    "  // now get results\n",
    "  Serial.print(\"{\\\"pressure[hPa]\\\":\");\n",
    "  Serial.print(mpl.getLastConversionResults(MPL3115A2_PRESSURE));\n",
    "  Serial.print(\",\\\"Temperature[C]\\\":\");\n",
    "  Serial.print(mpl.getLastConversionResults(MPL3115A2_TEMPERATURE));\n",
    "  Serial.println(\"}\");\n",
    "  //delay(10);\n",
    "  \n",
    "}\n",
    "\n",
    "```"
   ]
  },
  {
   "cell_type": "markdown",
   "id": "f015ed92",
   "metadata": {},
   "source": [
    "[link to useful tutorial](https://frenchsavvy.com/2020/12/30/python-serial-port-arduino-and-json/)"
   ]
  },
  {
   "cell_type": "code",
   "execution_count": 1,
   "id": "07f40d6c",
   "metadata": {},
   "outputs": [
    {
     "name": "stdout",
     "output_type": "stream",
     "text": [
      "{\"pressure[hPa]\":819.44,\"Temperature[C]\":24.94}\n",
      "\n",
      "{\"pressure[hPa]\":819.55,\"Temperature[C]\":25.00}\n",
      "\n",
      "{\"pressure[hPa]\":819.60,\"Temperature[C]\":25.06}\n",
      "\n",
      "{\"pressure[hPa]\":819.58,\"Temperature[C]\":25.06}\n",
      "\n",
      "{\"pressure[hPa]\":819.58,\"Temperature[C]\":25.06}\n",
      "\n",
      "{\"pressure[hPa]\":819.59,\"Temperature[C]\":25.06}\n",
      "\n",
      "{\"pressure[hPa]\":819.56,\"Temperature[C]\":25.06}\n",
      "\n",
      "{\"pressure[hPa]\":819.56,\"Temperature[C]\":25.06}\n",
      "\n",
      "{\"pressure[hPa]\":819.58,\"Temperature[C]\":25.06}\n",
      "\n",
      "{\"pressure[hPa]\":819.53,\"Temperature[C]\":25.06}\n",
      "\n"
     ]
    }
   ],
   "source": [
    "import serial\n",
    "import time \n",
    "connection = serial.Serial(port=\"COM3\", baudrate=9600)\n",
    "connection.reset_input_buffer()\n",
    " \n",
    "for x in range(10):\n",
    "    data = connection.readline().decode(\"utf-8\")\n",
    "    print(data)\n",
    "connection.close()"
   ]
  },
  {
   "cell_type": "code",
   "execution_count": 6,
   "id": "05150241",
   "metadata": {},
   "outputs": [
    {
     "name": "stdout",
     "output_type": "stream",
     "text": [
      "0\n",
      "1\n",
      "2\n",
      "3\n",
      "4\n",
      "5\n",
      "6\n",
      "7\n",
      "8\n",
      "9\n"
     ]
    }
   ],
   "source": [
    "for x in range(10):\n",
    "    print(x)"
   ]
  },
  {
   "cell_type": "code",
   "execution_count": 7,
   "id": "de7490ee",
   "metadata": {},
   "outputs": [
    {
     "name": "stdout",
     "output_type": "stream",
     "text": [
      "hello\n"
     ]
    }
   ],
   "source": [
    "print(\"hello\")"
   ]
  },
  {
   "cell_type": "code",
   "execution_count": 34,
   "id": "7d5d7d71",
   "metadata": {},
   "outputs": [
    {
     "name": "stdout",
     "output_type": "stream",
     "text": [
      "{'pressure[hPa]': 819.41, 'Temperature[C]': 23.19, 'timestamp': 1666493753947, 'timenow': '2022-10-22 20:55:53.947322', 'Temperature[F]': 73.742}\n",
      "{'pressure[hPa]': 819.48, 'Temperature[C]': 23.25, 'timestamp': 1666493758951, 'timenow': '2022-10-22 20:55:58.951061', 'Temperature[F]': 73.85}\n",
      "{'pressure[hPa]': 819.5, 'Temperature[C]': 23.25, 'timestamp': 1666493763956, 'timenow': '2022-10-22 20:56:03.955516', 'Temperature[F]': 73.85}\n",
      "{'pressure[hPa]': 819.5, 'Temperature[C]': 23.31, 'timestamp': 1666493768961, 'timenow': '2022-10-22 20:56:08.960685', 'Temperature[F]': 73.958}\n"
     ]
    }
   ],
   "source": [
    "import json\n",
    "import serial\n",
    "import time\n",
    "import datetime\n",
    "\n",
    "connection = serial.Serial(port=\"COM3\", baudrate=9600)\n",
    "connection.reset_input_buffer()\n",
    "\n",
    "\n",
    "for x in range(4):\n",
    "    data = connection.readline().decode(\"utf-8\")\n",
    "    # print(data)\n",
    "    try:\n",
    "        dict_json = json.loads(data)\n",
    "        presentDate = datetime.datetime.now()\n",
    "        unix_timestamp = round((datetime.datetime.timestamp(presentDate)*1000))\n",
    "        dict_json[\"timestamp\"] = unix_timestamp\n",
    "        dict_json[\"timenow\"] = str(presentDate)\n",
    "        dict_json[\"Temperature[F]\"] = 32 + dict_json[\"Temperature[C]\"]*9/5\n",
    "        print(dict_json)\n",
    "    except json.JSONDecodeError as e:\n",
    "        print(\"JSON:\", e)\n",
    "    time.sleep(0.1)\n",
    "connection.close()"
   ]
  },
  {
   "cell_type": "code",
   "execution_count": 29,
   "id": "0360d610",
   "metadata": {},
   "outputs": [
    {
     "data": {
      "text/plain": [
       "{'pressure[hPa]': 819.59,\n",
       " 'Temperature[C]': 23.69,\n",
       " 'timestamp': 1666493527988,\n",
       " 'timenow': '2022-10-22 20:52:07.988496',\n",
       " 'Temperature[F]': 74.642}"
      ]
     },
     "execution_count": 29,
     "metadata": {},
     "output_type": "execute_result"
    }
   ],
   "source": [
    "dict_json"
   ]
  },
  {
   "cell_type": "code",
   "execution_count": 64,
   "id": "48b2d589",
   "metadata": {},
   "outputs": [],
   "source": [
    "connection.close()"
   ]
  },
  {
   "cell_type": "code",
   "execution_count": 33,
   "id": "e3e3c556",
   "metadata": {},
   "outputs": [
    {
     "name": "stdout",
     "output_type": "stream",
     "text": [
      "1666401956890\n"
     ]
    }
   ],
   "source": [
    "import time\n",
    "import datetime\n",
    "\n",
    "presentDate = datetime.datetime.now()\n",
    "unix_timestamp = round((datetime.datetime.timestamp(presentDate)*1000))\n",
    "print(unix_timestamp)\n",
    "#unix_timestamp_decimal = datetime.timestamp(presentDate)*1000\n",
    "#timestamp = unix_timestamp_decimal.split(\".\")[0]"
   ]
  },
  {
   "cell_type": "code",
   "execution_count": 31,
   "id": "678e7b9a",
   "metadata": {},
   "outputs": [
    {
     "data": {
      "text/plain": [
       "2343"
      ]
     },
     "execution_count": 31,
     "metadata": {},
     "output_type": "execute_result"
    }
   ],
   "source": [
    "round(2343.33)"
   ]
  },
  {
   "cell_type": "code",
   "execution_count": 70,
   "id": "c418beae",
   "metadata": {},
   "outputs": [
    {
     "name": "stdout",
     "output_type": "stream",
     "text": [
      "{'pressure[hPa]': 819.5, 'Temperature[C]': 21.62, 'timestamp': 1666496161009, 'timenow': '2022-10-22 21:36:01.008534', 'Temperature[F]': 70.916}\n",
      "{'pressure[hPa]': 819.62, 'Temperature[C]': 21.69, 'timestamp': 1666496166027, 'timenow': '2022-10-22 21:36:06.027023', 'Temperature[F]': 71.042}\n",
      "{'pressure[hPa]': 819.58, 'Temperature[C]': 21.69, 'timestamp': 1666496171034, 'timenow': '2022-10-22 21:36:11.033634', 'Temperature[F]': 71.042}\n",
      "{'pressure[hPa]': 819.59, 'Temperature[C]': 21.69, 'timestamp': 1666496176044, 'timenow': '2022-10-22 21:36:16.043750', 'Temperature[F]': 71.042}\n",
      "{'pressure[hPa]': 819.6, 'Temperature[C]': 21.75, 'timestamp': 1666496181049, 'timenow': '2022-10-22 21:36:21.048554', 'Temperature[F]': 71.15}\n",
      "{'pressure[hPa]': 819.57, 'Temperature[C]': 21.69, 'timestamp': 1666496186056, 'timenow': '2022-10-22 21:36:26.056377', 'Temperature[F]': 71.042}\n",
      "{'pressure[hPa]': 819.58, 'Temperature[C]': 21.75, 'timestamp': 1666496191065, 'timenow': '2022-10-22 21:36:31.064676', 'Temperature[F]': 71.15}\n",
      "{'pressure[hPa]': 819.63, 'Temperature[C]': 21.75, 'timestamp': 1666496196074, 'timenow': '2022-10-22 21:36:36.074317', 'Temperature[F]': 71.15}\n",
      "{'pressure[hPa]': 819.56, 'Temperature[C]': 21.69, 'timestamp': 1666496201079, 'timenow': '2022-10-22 21:36:41.079174', 'Temperature[F]': 71.042}\n",
      "{'pressure[hPa]': 819.64, 'Temperature[C]': 21.75, 'timestamp': 1666496206087, 'timenow': '2022-10-22 21:36:46.087130', 'Temperature[F]': 71.15}\n"
     ]
    }
   ],
   "source": [
    "import json\n",
    "import serial\n",
    "import time\n",
    "import datetime\n",
    "\n",
    "f = open(\"sensordata.txt\", \"w\")\n",
    "f.write(\"[]\")\n",
    "f.close()\n",
    "\n",
    "connection = serial.Serial(port=\"COM3\", baudrate=9600)\n",
    "connection.reset_input_buffer()\n",
    "connection.flush()\n",
    "\n",
    "\n",
    "for x in range(10):\n",
    "    data = connection.readline().decode(\"utf-8\")\n",
    "    # print(data)\n",
    "    try:\n",
    "        dict_json = json.loads(data)\n",
    "        presentDate = datetime.datetime.now()\n",
    "        unix_timestamp = round((datetime.datetime.timestamp(presentDate)*1000))\n",
    "        dict_json[\"timestamp\"] = unix_timestamp\n",
    "        dict_json[\"timenow\"] = str(presentDate)\n",
    "        dict_json[\"Temperature[F]\"] = 32 + dict_json[\"Temperature[C]\"]*9/5\n",
    "        f = open(\"sensordata.txt\", \"r\")\n",
    "        sensordata = json.loads(f.read())\n",
    "        f.close()\n",
    "        f = open(\"sensordata.txt\", \"w\")\n",
    "        sensordata.append(dict_json)\n",
    "        f.write(json.dumps(sensordata))\n",
    "        f.close()\n",
    "        print(dict_json)\n",
    "    except json.JSONDecodeError as e:\n",
    "        print(\"JSON:\", e)\n",
    "    time.sleep(5)\n",
    "connection.close()\n",
    "f.close()"
   ]
  },
  {
   "cell_type": "code",
   "execution_count": 44,
   "id": "8ecc0a24",
   "metadata": {},
   "outputs": [],
   "source": [
    "foo = []"
   ]
  },
  {
   "cell_type": "code",
   "execution_count": 59,
   "id": "50a67b45",
   "metadata": {},
   "outputs": [
    {
     "data": {
      "text/plain": [
       "'[{\"pressure[hPa]\": 819.5, \"Temperature[C]\": 23.31, \"timestamp\": 1666493768961, \"timenow\": \"2022-10-22 20:56:08.960685\", \"Temperature[F]\": 73.958}, {\"pressure[hPa]\": 819.5, \"Temperature[C]\": 23.31, \"timestamp\": 1666493768961, \"timenow\": \"2022-10-22 20:56:08.960685\", \"Temperature[F]\": 73.958}]'"
      ]
     },
     "execution_count": 59,
     "metadata": {},
     "output_type": "execute_result"
    }
   ],
   "source": [
    "json.dumps(foo)"
   ]
  },
  {
   "cell_type": "code",
   "execution_count": 49,
   "id": "6eeaac64",
   "metadata": {},
   "outputs": [],
   "source": [
    "foo[0][\"foo\"] = \"Foo\""
   ]
  },
  {
   "cell_type": "code",
   "execution_count": 52,
   "id": "d4b0c1c9",
   "metadata": {},
   "outputs": [],
   "source": [
    "foo = json.loads(\"[]\")"
   ]
  },
  {
   "cell_type": "code",
   "execution_count": 56,
   "id": "e68fcca1",
   "metadata": {},
   "outputs": [],
   "source": [
    "foo.append(dict_json)"
   ]
  },
  {
   "cell_type": "code",
   "execution_count": 57,
   "id": "55e17942",
   "metadata": {},
   "outputs": [
    {
     "data": {
      "text/plain": [
       "[{'pressure[hPa]': 819.5,\n",
       "  'Temperature[C]': 23.31,\n",
       "  'timestamp': 1666493768961,\n",
       "  'timenow': '2022-10-22 20:56:08.960685',\n",
       "  'Temperature[F]': 73.958},\n",
       " {'pressure[hPa]': 819.5,\n",
       "  'Temperature[C]': 23.31,\n",
       "  'timestamp': 1666493768961,\n",
       "  'timenow': '2022-10-22 20:56:08.960685',\n",
       "  'Temperature[F]': 73.958}]"
      ]
     },
     "execution_count": 57,
     "metadata": {},
     "output_type": "execute_result"
    }
   ],
   "source": [
    "foo"
   ]
  },
  {
   "cell_type": "code",
   "execution_count": null,
   "id": "959d8e19",
   "metadata": {},
   "outputs": [],
   "source": []
  }
 ],
 "metadata": {
  "kernelspec": {
   "display_name": "Python 3",
   "language": "python",
   "name": "python3"
  },
  "language_info": {
   "codemirror_mode": {
    "name": "ipython",
    "version": 3
   },
   "file_extension": ".py",
   "mimetype": "text/x-python",
   "name": "python",
   "nbconvert_exporter": "python",
   "pygments_lexer": "ipython3",
   "version": "3.8.8"
  }
 },
 "nbformat": 4,
 "nbformat_minor": 5
}

{
 "cells": [
  {
   "cell_type": "code",
   "execution_count": 5,
   "id": "3f0f3d0e",
   "metadata": {},
   "outputs": [
    {
     "name": "stdout",
     "output_type": "stream",
     "text": [
      "[{'pressure[hPa]': 819.57, 'Temperature[C]': 21.5, 'timestamp': 1666496489539, 'timenow': '2022-10-22 21:41:29.538691', 'Temperature[F]': 70.7}, {'pressure[hPa]': 819.69, 'Temperature[C]': 21.56, 'timestamp': 1666496494551, 'timenow': '2022-10-22 21:41:34.551362', 'Temperature[F]': 70.80799999999999}, {'pressure[hPa]': 819.69, 'Temperature[C]': 21.62, 'timestamp': 1666496499578, 'timenow': '2022-10-22 21:41:39.578135', 'Temperature[F]': 70.916}, {'pressure[hPa]': 819.66, 'Temperature[C]': 21.62, 'timestamp': 1666496504601, 'timenow': '2022-10-22 21:41:44.601008', 'Temperature[F]': 70.916}, {'pressure[hPa]': 819.66, 'Temperature[C]': 21.62, 'timestamp': 1666496509622, 'timenow': '2022-10-22 21:41:49.621803', 'Temperature[F]': 70.916}, {'pressure[hPa]': 819.62, 'Temperature[C]': 21.62, 'timestamp': 1666496514632, 'timenow': '2022-10-22 21:41:54.632418', 'Temperature[F]': 70.916}, {'pressure[hPa]': 819.65, 'Temperature[C]': 21.62, 'timestamp': 1666496519646, 'timenow': '2022-10-22 21:41:59.646331', 'Temperature[F]': 70.916}, {'pressure[hPa]': 819.62, 'Temperature[C]': 21.62, 'timestamp': 1666496524667, 'timenow': '2022-10-22 21:42:04.666763', 'Temperature[F]': 70.916}, {'pressure[hPa]': 819.64, 'Temperature[C]': 21.62, 'timestamp': 1666496529686, 'timenow': '2022-10-22 21:42:09.685744', 'Temperature[F]': 70.916}, {'pressure[hPa]': 819.63, 'Temperature[C]': 21.62, 'timestamp': 1666496534709, 'timenow': '2022-10-22 21:42:14.708853', 'Temperature[F]': 70.916}]\n"
     ]
    }
   ],
   "source": [
    "import json\n",
    "f = open(\"sensordata.txt\", \"r\")\n",
    "textdata = f.read()\n",
    "f.close()\n",
    "sensordata = json.loads(textdata)\n",
    "print(sensordata)"
   ]
  },
  {
   "cell_type": "code",
   "execution_count": 9,
   "id": "82922557",
   "metadata": {},
   "outputs": [
    {
     "data": {
      "text/plain": [
       "[<matplotlib.lines.Line2D at 0x1d57eca0220>]"
      ]
     },
     "execution_count": 9,
     "metadata": {},
     "output_type": "execute_result"
    },
    {
     "data": {
      "image/png": "[encoded data removed]",
      "text/plain": [
       "<Figure size 432x288 with 1 Axes>"
      ]
     },
     "metadata": {
      "needs_background": "light"
     },
     "output_type": "display_data"
    }
   ],
   "source": [
    "import matplotlib.pyplot as plt\n",
    "import numpy as np\n",
    "pressurewave = []\n",
    "temperaturewave = []\n",
    "fwave = []\n",
    "minwave = []\n",
    "timewave = []\n",
    "for x in sensordata:\n",
    "    #print(x['Pressure'])\n",
    "    pressurewave.append(x['pressure[hPa]'])\n",
    "    temperaturewave.append(x['Temperature[C]'])\n",
    "    fwave.append(32.0 + x['Temperature[C]']*9/5)\n",
    "    timewave.append(x['timestamp'])\n",
    "    minwave.append((x['timestamp'] - data[0]['timestamp'])/60000)\n",
    "plt.plot(minwave,fwave,'+')"
   ]
  },
  {
   "cell_type": "code",
   "execution_count": null,
   "id": "91c8e6d5",
   "metadata": {},
   "outputs": [],
   "source": []
  }
 ],
 "metadata": {
  "kernelspec": {
   "display_name": "Python 3",
   "language": "python",
   "name": "python3"
  },
  "language_info": {
   "codemirror_mode": {
    "name": "ipython",
    "version": 3
   },
   "file_extension": ".py",
   "mimetype": "text/x-python",
   "name": "python",
   "nbconvert_exporter": "python",
   "pygments_lexer": "ipython3",
   "version": "3.8.8"
  }
 },
 "nbformat": 4,
 "nbformat_minor": 5
}

{
 "cells": [
  {
   "cell_type": "markdown",
   "id": "26f06953",
   "metadata": {},
   "source": [
    "# [Environmental Intelligence Network](https://github.com/LafeLabs/trashmagicmedia/blob/main/ein/slides.ipynb)\n",
    "\n",
    "![](images/ein.png)\n",
    "![](images/station.png)\n",
    "![](images/wifinetwork.png)\n",
    "![](images/sciencemediaserver.png)\n",
    "![](images/mobilestation.png)\n",
    "![](images/thermistercal.png)\n",
    "![](images/powercal.png)\n",
    "![](images/voltage.png)\n",
    "![](images/time.png)\n"
   ]
  },
  {
   "cell_type": "code",
   "execution_count": null,
   "id": "e49aef1a",
   "metadata": {},
   "outputs": [],
   "source": []
  }
 ],
 "metadata": {
  "kernelspec": {
   "display_name": "Python 3",
   "language": "python",
   "name": "python3"
  },
  "language_info": {
   "codemirror_mode": {
    "name": "ipython",
    "version": 3
   },
   "file_extension": ".py",
   "mimetype": "text/x-python",
   "name": "python",
   "nbconvert_exporter": "python",
   "pygments_lexer": "ipython3",
   "version": "3.8.8"
  }
 },
 "nbformat": 4,
 "nbformat_minor": 5
}

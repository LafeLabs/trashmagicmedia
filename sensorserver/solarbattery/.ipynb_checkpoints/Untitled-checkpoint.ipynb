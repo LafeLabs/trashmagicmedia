{
 "cells": [
  {
   "cell_type": "code",
   "execution_count": 2,
   "id": "d453aca0",
   "metadata": {},
   "outputs": [],
   "source": [
    "import serial\n",
    "import time\n",
    "import datetime\n",
    "import json\n",
    "f = open(\"data/sensordata.txt\", \"r\")\n",
    "textdata = f.read()\n",
    "data = json.loads(textdata)\n"
   ]
  },
  {
   "cell_type": "code",
   "execution_count": 4,
   "id": "5a50046c",
   "metadata": {},
   "outputs": [
    {
     "data": {
      "text/plain": [
       "list"
      ]
     },
     "execution_count": 4,
     "metadata": {},
     "output_type": "execute_result"
    }
   ],
   "source": [
    "type(data)"
   ]
  },
  {
   "cell_type": "code",
   "execution_count": null,
   "id": "cc784a95",
   "metadata": {},
   "outputs": [],
   "source": [
    "presentDate = datetime.datetime.now()\n",
    "unix_timestamp = datetime.datetime.timestamp(presentDate)*1000\n",
    "ser = serial.Serial('COM4', 9600, timeout=1)\n",
    "ser.flush()\n",
    "i = 0\n",
    "data = \"\"\n",
    "while i < 10:\n",
    "    i += 1\n",
    "    data += str(ser.readline())\n",
    "ser.close()\n",
    "data = data.split(\"\\\\r\\\\n\\'b\\'\")[5]\n",
    "vbat = data.split(\",\")[0]\n",
    "vsolar = data.split(\",\")[1]\n",
    "jsondata = \"{\\\"vbatt\\\":\" + vbat + \",\\\"vsolar\\\":\" + vsolar + \"}\"\n",
    "    \n",
    "filename = \"media/sensordata/data\" + str(unix_timestamp).split(\".\")[0] + \".txt\"\n",
    "file1 = open(filename,'w')\n",
    "file1.write(jsondata)\n",
    "file1.close()    \n",
    "    "
   ]
  },
  {
   "cell_type": "code",
   "execution_count": 15,
   "id": "c0688db9",
   "metadata": {},
   "outputs": [],
   "source": [
    "import serial\n",
    "import time\n",
    "import datetime\n",
    "import json\n",
    "\n",
    "presentDate = datetime.datetime.now()\n",
    "unix_timestamp = datetime.datetime.timestamp(presentDate)*1000\n",
    "ser = serial.Serial('COM4', 9600, timeout=1)\n",
    "ser.flush()\n",
    "i = 0\n",
    "data = \"\"\n",
    "while i < 10:\n",
    "    i += 1\n",
    "    data += str(ser.readline())\n",
    "ser.close()\n",
    "data = data.split(\"\\\\r\\\\n\\'b\\'\")[5]\n",
    "vbat = data.split(\",\")[0]\n",
    "vsolar = data.split(\",\")[1]\n",
    "jsondatapointstring = \"{\\\"vbatt\\\":\" + vbat + \",\\\"vsolar\\\":\" + vsolar + \",\\\"timestamp\\\":\" + str(unix_timestamp).split(\".\")[0] + \"}\"\n",
    "jsondatapoint = json.loads(jsondatapointstring)\n",
    "f = open(\"data/sensordata.txt\", \"r\")\n",
    "textdata = f.read()\n",
    "data = json.loads(textdata)\n",
    "data.append(jsondatapoint)\n",
    "f.close()\n",
    "f = open(\"data/sensordata.txt\", \"w\")\n",
    "f.write(json.dumps(data))\n",
    "f.close()\n",
    "\n"
   ]
  },
  {
   "cell_type": "code",
   "execution_count": 5,
   "id": "df08c8a0",
   "metadata": {},
   "outputs": [
    {
     "name": "stdout",
     "output_type": "stream",
     "text": [
      "{'vbatt': 12.86, 'vsolar': 12.86, 'timestamp': 1665608892282}\n"
     ]
    }
   ],
   "source": [
    "jsondatastring = \"{\\\"vbatt\\\":\" + vbat + \",\\\"vsolar\\\":\" + vsolar + \",\\\"timestamp\\\":\" + str(unix_timestamp).split(\".\")[0] + \"}\"\n",
    "jsondata = json.loads(jsondatastring)\n",
    "print(jsondata)"
   ]
  },
  {
   "cell_type": "code",
   "execution_count": 6,
   "id": "90dcae0f",
   "metadata": {},
   "outputs": [
    {
     "data": {
      "text/plain": [
       "dict"
      ]
     },
     "execution_count": 6,
     "metadata": {},
     "output_type": "execute_result"
    }
   ],
   "source": []
  },
  {
   "cell_type": "code",
   "execution_count": null,
   "id": "f60af0a7",
   "metadata": {},
   "outputs": [],
   "source": []
  }
 ],
 "metadata": {
  "kernelspec": {
   "display_name": "Python 3",
   "language": "python",
   "name": "python3"
  },
  "language_info": {
   "codemirror_mode": {
    "name": "ipython",
    "version": 3
   },
   "file_extension": ".py",
   "mimetype": "text/x-python",
   "name": "python",
   "nbconvert_exporter": "python",
   "pygments_lexer": "ipython3",
   "version": "3.8.8"
  }
 },
 "nbformat": 4,
 "nbformat_minor": 5
}
